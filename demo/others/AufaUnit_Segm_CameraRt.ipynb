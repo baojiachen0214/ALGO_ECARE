{
 "cells": [
  {
   "cell_type": "markdown",
   "source": [
    "# FaceMesh 人脸AU单元实时监测"
   ],
   "metadata": {
    "collapsed": false
   },
   "id": "dd3e4a645a3c820f"
  },
  {
   "cell_type": "code",
   "execution_count": 1,
   "id": "initial_id",
   "metadata": {
    "collapsed": true,
    "ExecuteTime": {
     "end_time": "2024-09-21T09:43:22.197569300Z",
     "start_time": "2024-09-21T09:43:16.911267800Z"
    }
   },
   "outputs": [
    {
     "name": "stderr",
     "output_type": "stream",
     "text": [
      "E:\\Anaconda\\Lib\\site-packages\\scipy\\__init__.py:146: UserWarning: A NumPy version >=1.16.5 and <1.23.0 is required for this version of SciPy (detected version 1.26.0\n",
      "  warnings.warn(f\"A NumPy version >={np_minversion} and <{np_maxversion}\"\n"
     ]
    },
    {
     "name": "stdout",
     "output_type": "stream",
     "text": [
      "WARNING:tensorflow:From E:\\Anaconda\\Lib\\site-packages\\keras\\src\\losses.py:2976: The name tf.losses.sparse_softmax_cross_entropy is deprecated. Please use tf.compat.v1.losses.sparse_softmax_cross_entropy instead.\n"
     ]
    }
   ],
   "source": [
    "# 导入基础库\n",
    "import cv2\n",
    "import mediapipe as mp\n",
    "from tqdm import tqdm\n",
    "import time"
   ]
  },
  {
   "cell_type": "code",
   "execution_count": 2,
   "outputs": [],
   "source": [
    "# 导入三维人脸关键点检测的模型\n",
    "mp_face_mesh = mp.solutions.face_mesh\n",
    "model = mp_face_mesh.FaceMesh(\n",
    "    static_image_mode=False,\n",
    "    refine_landmarks=True,\n",
    "    max_num_faces=5, # 最多检测的人脸数量\n",
    "    min_detection_confidence=0.5,\n",
    "    min_tracking_confidence=0.5\n",
    ")"
   ],
   "metadata": {
    "collapsed": false,
    "ExecuteTime": {
     "end_time": "2024-09-21T09:43:22.242129800Z",
     "start_time": "2024-09-21T09:43:22.200004400Z"
    }
   },
   "id": "7dadcbc00c848286"
  },
  {
   "cell_type": "code",
   "execution_count": 3,
   "outputs": [],
   "source": [
    "# 导入可视化函数和可视化样式\n",
    "mp_drawing = mp.solutions.drawing_utils\n",
    "mp_drawing_styles = mp.solutions.drawing_styles"
   ],
   "metadata": {
    "collapsed": false,
    "ExecuteTime": {
     "end_time": "2024-09-21T09:43:23.164801900Z",
     "start_time": "2024-09-21T09:43:23.138513500Z"
    }
   },
   "id": "11c473306355aea4"
  },
  {
   "cell_type": "code",
   "execution_count": 4,
   "outputs": [],
   "source": [
    "# 处理单帧的函数\n",
    "def process_frame(img):\n",
    "    # 记录该祯开始处理的时间\n",
    "    t0 = time.time()\n",
    "    scaler = 1 # 文字大小\n",
    "    \n",
    "    # BGR to RGB\n",
    "    img_RGB = cv2.cvtColor(img, cv2.COLOR_BGR2RGB)\n",
    "\n",
    "    # 将RGB图像输入模型，并得到检测结果\n",
    "    results = model.process(img_RGB)\n",
    "    \n",
    "    # 如果有检测到人脸，则开始绘制人脸曲面和重点区域轮廓线\n",
    "    if results.multi_face_landmarks: # 如果有检测到人脸\n",
    "        for face_landmarks in results.multi_face_landmarks: # 遍历每一张人脸\n",
    "            # 绘制人脸轮廓线\n",
    "            mp_drawing.draw_landmarks(\n",
    "                image=img, # 输入图像\n",
    "                landmark_list=face_landmarks, # 关键点\n",
    "                connections=mp_face_mesh.FACEMESH_TESSELATION, # 连接点\n",
    "                landmark_drawing_spec=mp_drawing.DrawingSpec(thickness=1,circle_radius=2,color=(66,77,229)), # 关键点样式,默认为None\n",
    "                connection_drawing_spec=mp_drawing_styles.get_default_face_mesh_tesselation_style()\n",
    "           )\n",
    "        \n",
    "            # 绘制人脸轮廓线、眼睫毛、眼珠、嘴巴\n",
    "            mp_drawing.draw_landmarks(\n",
    "                image=img, # 输入图像\n",
    "                landmark_list=face_landmarks, # 关键点\n",
    "                connections=mp_face_mesh.FACEMESH_CONTOURS, # 连接点\n",
    "                landmark_drawing_spec=mp_drawing.DrawingSpec(thickness=1,circle_radius=5,color=(66,77,229)), # 关键点样式,默认为None\n",
    "                connection_drawing_spec=mp_drawing_styles.get_default_face_mesh_contours_style()\n",
    "           )\n",
    "        \n",
    "            # 绘制瞳孔区域\n",
    "            mp_drawing.draw_landmarks(\n",
    "                image=img, # 输入图像\n",
    "                landmark_list=face_landmarks, # 关键点\n",
    "                connections=mp_face_mesh.FACEMESH_IRISES, # 连接点\n",
    "                landmark_drawing_spec=mp_drawing.DrawingSpec(thickness=1,circle_radius=1,color=(10,169,77)), # 关键点样式,默认为None\n",
    "                connection_drawing_spec=mp_drawing_styles.get_default_face_mesh_iris_connections_style()\n",
    "            )\n",
    "    else:\n",
    "        # 如果没有检测到人脸，则提示\n",
    "        # No face detected的提示只能是英文，否则会显示?????\n",
    "        img = cv2.putText(img, 'No face detected!', (25 * scaler, 50 * scaler), cv2.FONT_HERSHEY_SIMPLEX, 1.25 * scaler, (255, 0, 255), 2 * scaler)\n",
    "        \n",
    "    # 记录该帧处理完毕的时间\n",
    "    t1 = time.time()\n",
    "    \n",
    "    # 计算每秒处理图像帧数FPS\n",
    "    FPS = 1 / (t1 - t0)\n",
    "    \n",
    "    img = cv2.putText(img, 'FPS: '+ str(int(FPS)), (25 * scaler, 100 * scaler), cv2.FONT_HERSHEY_SIMPLEX, 1.25 * scaler, (255, 0, 255))\n",
    "    \n",
    "    return img"
   ],
   "metadata": {
    "collapsed": false,
    "ExecuteTime": {
     "end_time": "2024-09-21T09:43:24.074254400Z",
     "start_time": "2024-09-21T09:43:24.056724800Z"
    }
   },
   "id": "d80ca3285b8344b6"
  },
  {
   "cell_type": "markdown",
   "source": [
    "## 摄像头抽帧处理"
   ],
   "metadata": {
    "collapsed": false
   },
   "id": "25fec296ef9e34e5"
  },
  {
   "cell_type": "code",
   "execution_count": 5,
   "outputs": [
    {
     "name": "stderr",
     "output_type": "stream",
     "text": [
      "E:\\Anaconda\\Lib\\site-packages\\google\\protobuf\\symbol_database.py:78: UserWarning: SymbolDatabase.GetPrototype() is deprecated. Please use message_factory.GetMessageClass() instead. SymbolDatabase.GetPrototype() will be removed soon.\n",
      "  warnings.warn('SymbolDatabase.GetPrototype() is deprecated. Please '\n"
     ]
    }
   ],
   "source": [
    "# 调用摄像头获取每帧\n",
    "# 导入opencv读取视频的库\n",
    "import cv2\n",
    "import time\n",
    "\n",
    "# 获取摄像头，传入0表示获取系统默认摄像头。如果是MacOS，则需要传入1\n",
    "cap = cv2.VideoCapture(0)\n",
    "\n",
    "# 打开capture\n",
    "cap.open(0)\n",
    "\n",
    "# 无线循环，直至断开连接\n",
    "while cap.isOpened():\n",
    "    # 读取摄像头数据\n",
    "    ret, frame = cap.read()\n",
    "    if not ret:\n",
    "        print(\"Ignoring empty\")\n",
    "        break\n",
    "        \n",
    "    # 处理帧\n",
    "    frame = process_frame(frame)\n",
    "    \n",
    "    # 显示处理后的帧\n",
    "    cv2.imshow('frame', frame)\n",
    "    \n",
    "    # 等待键盘输入，27为esc键，ord用于将字符转为ASCII码\n",
    "    if cv2.waitKey(1) in [27, ord('q')]:\n",
    "        break\n",
    "        \n",
    "# 释放摄像头\n",
    "cap.release()\n",
    "\n",
    "# 关闭所有窗口\n",
    "cv2.destroyAllWindows()"
   ],
   "metadata": {
    "collapsed": false,
    "ExecuteTime": {
     "end_time": "2024-09-21T09:44:43.902180700Z",
     "start_time": "2024-09-21T09:43:27.917122800Z"
    }
   },
   "id": "9137e5d97acf3524"
  },
  {
   "cell_type": "markdown",
   "source": [
    "## 视频逐帧处理"
   ],
   "metadata": {
    "collapsed": false
   },
   "id": "68dea46708faede0"
  },
  {
   "cell_type": "code",
   "execution_count": 24,
   "outputs": [],
   "source": [
    "def video_process(video_path = 'D:/Pythoncode/MediapipeModels/videos/test1.mp4'):\n",
    "    figurehead = video_path.split('/')[-1]\n",
    "    output_path = 'out-'+ figurehead\n",
    "    \n",
    "    print('video_path:', video_path)\n",
    "    \n",
    "    # 获取视频总帧数\n",
    "    cap1 = cv2.VideoCapture(video_path)\n",
    "    total_frames = 0\n",
    "    while cap1.isOpened():\n",
    "        ret, frame = cap1.read()\n",
    "        total_frames += 1\n",
    "        if not ret:\n",
    "            break\n",
    "    cap1.retrieve()\n",
    "    print('total_frames:', total_frames)\n",
    "    \n",
    "    cap2 = cv2.VideoCapture(video_path)\n",
    "    frame_step = (cap2.get(cv2.CAP_PROP_FRAME_WIDTH), cap2.get(cv2.CAP_PROP_FRAME_HEIGHT))\n",
    "    \n",
    "    fourcc = int(cap2.get(cv2.CAP_PROP_FOURCC))\n",
    "    fps = cap2.get(cv2.CAP_PROP_FPS)\n",
    "    \n",
    "    out = cv2.VideoWriter(output_path, fourcc, fps,(int(frame_step[0]), int(frame_step[1])))\n",
    "    \n",
    "    # 进度条绑定视频的总帧数\n",
    "    with tqdm(total=total_frames-1) as pbar:\n",
    "        try:\n",
    "            while cap2.isOpened():\n",
    "                ret, frame = cap2.read()\n",
    "                if not ret:\n",
    "                    break\n",
    "                    \n",
    "                #处理帧\n",
    "                try:\n",
    "                    frame = process_frame(frame)\n",
    "                except:\n",
    "                    print('error')\n",
    "                    pass\n",
    "                \n",
    "                if ret:\n",
    "                    out.write(frame)\n",
    "                    # 更新进度条\n",
    "                    pbar.update(1)\n",
    "                    \n",
    "                if cv2.waitKey(1) & 0xFF == ord('q'):\n",
    "                    break\n",
    "                    \n",
    "        except:\n",
    "            print('Midway interruption')\n",
    "            pass\n",
    "        \n",
    "    cv2.destroyAllWindows()\n",
    "    out.release()\n",
    "    cap2.release()\n",
    "    print('Finished!', output_path)\n",
    "                    "
   ],
   "metadata": {
    "collapsed": false,
    "ExecuteTime": {
     "end_time": "2024-09-21T05:45:57.809097100Z",
     "start_time": "2024-09-21T05:45:57.803906400Z"
    }
   },
   "id": "4fa88d5d02cee629"
  },
  {
   "cell_type": "code",
   "execution_count": 25,
   "outputs": [
    {
     "name": "stdout",
     "output_type": "stream",
     "text": [
      "video_path: D:/Pythoncode/MediapipeModels/videos/test1.mp4\n",
      "total_frames: 451\n"
     ]
    },
    {
     "name": "stderr",
     "output_type": "stream",
     "text": [
      "100%|██████████| 450/450 [00:12<00:00, 35.56it/s]"
     ]
    },
    {
     "name": "stdout",
     "output_type": "stream",
     "text": [
      "Finished! out-test1.mp4\n"
     ]
    },
    {
     "name": "stderr",
     "output_type": "stream",
     "text": [
      "\n"
     ]
    }
   ],
   "source": [
    "# 处理视频\n",
    "video_process()"
   ],
   "metadata": {
    "collapsed": false,
    "ExecuteTime": {
     "end_time": "2024-09-21T05:46:14.055416200Z",
     "start_time": "2024-09-21T05:45:59.961394300Z"
    }
   },
   "id": "ca06e19575a771b1"
  }
 ],
 "metadata": {
  "kernelspec": {
   "display_name": "Python 3",
   "language": "python",
   "name": "python3"
  },
  "language_info": {
   "codemirror_mode": {
    "name": "ipython",
    "version": 2
   },
   "file_extension": ".py",
   "mimetype": "text/x-python",
   "name": "python",
   "nbconvert_exporter": "python",
   "pygments_lexer": "ipython2",
   "version": "2.7.6"
  }
 },
 "nbformat": 4,
 "nbformat_minor": 5
}
