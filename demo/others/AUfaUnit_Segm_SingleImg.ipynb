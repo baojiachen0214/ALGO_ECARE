{
 "cells": [
  {
   "cell_type": "markdown",
   "source": [
    "# 单图像人脸关键点检测\n",
    "## 实现功能：使用谷歌的Mediapipe人工智能框架，完成对单张图像的关键点检测"
   ],
   "metadata": {
    "collapsed": false
   },
   "id": "f138a93f69baa007"
  },
  {
   "cell_type": "code",
   "execution_count": null,
   "id": "initial_id",
   "metadata": {
    "collapsed": true
   },
   "outputs": [],
   "source": [
    "# 导入基础库\n",
    "import cv2\n",
    "import mediapipe as mp\n",
    "from tqdm import tqdm\n",
    "import time\n",
    "import matplotlib.pyplot as plt\n",
    "%matplotlib inline"
   ]
  },
  {
   "cell_type": "code",
   "execution_count": null,
   "outputs": [],
   "source": [
    "# 定义可视化图像\n",
    "def look_img(img):\n",
    "    # opencv读入的图像格式为BGR，而matplotlib的imshow函数需要RGB格式，因此需要转换下格式\n",
    "    img_RGB = cv2.cvtColor(img, cv2.COLOR_BGR2RGB)\n",
    "    plt.imshow(img_RGB)\n",
    "    plt.show()"
   ],
   "metadata": {
    "collapsed": false
   },
   "id": "8de6052ed5d67981"
  },
  {
   "cell_type": "code",
   "execution_count": null,
   "outputs": [],
   "source": [
    "mp_face_mesh = mp.solutions.face_mesh\n",
    "help(mp_face_mesh)\n",
    "# refine_landmarks 对眼睛、瞳孔的重点区域微调\n",
    "# min_detection_confidence 最小置信度阈值([0.0, 1.0])\n",
    "# min_tracking_confidence 最小追踪成功的面部地标置信度阈值([0.0, 1.0])"
   ],
   "metadata": {
    "collapsed": false
   },
   "id": "e684a90c73139aa3"
  },
  {
   "cell_type": "code",
   "execution_count": null,
   "outputs": [],
   "source": [
    "model = mp_face_mesh.FaceMesh(\n",
    "    static_image_mode=True, # 是否为静态图片，如果是，则每次输入的图片必须相同尺寸\n",
    "    refine_landmarks=True, # 使用 Attention Mesh 模型，对眼睛、瞳孔周围的关键点精细定位\n",
    "    min_detection_confidence=0.5, # 置信度阈值，越接近 1 越准确\n",
    "    min_tracking_confidence=0.5 # 追踪成功率阈值，越接近 1 越准确\n",
    ")"
   ],
   "metadata": {
    "collapsed": false
   },
   "id": "16e6fbc913e12878"
  },
  {
   "cell_type": "code",
   "execution_count": null,
   "outputs": [],
   "source": [
    "# 导入可视化函数和可视化样式\n",
    "mp_drawing = mp.solutions.drawing_utils\n",
    "mp_drawing_styles = mp.solutions.drawing_styles"
   ],
   "metadata": {
    "collapsed": false
   },
   "id": "9589f978988c209b"
  },
  {
   "cell_type": "code",
   "execution_count": null,
   "outputs": [],
   "source": [
    "img = cv2.imread('../users_database/baojiachen.jpg')\n",
    "look_img(img)"
   ],
   "metadata": {
    "collapsed": false
   },
   "id": "a4184f5d2bdbf5c8"
  },
  {
   "cell_type": "code",
   "execution_count": null,
   "outputs": [],
   "source": [
    "# BGR to RGB\n",
    "img_RGB = cv2.cvtColor(img, cv2.COLOR_BGR2RGB)\n",
    "\n",
    "# 将RGB图像输入模型，并得到检测结果\n",
    "results = model.process(img_RGB)"
   ],
   "metadata": {
    "collapsed": false
   },
   "id": "ba9f25384b018254"
  },
  {
   "cell_type": "code",
   "execution_count": null,
   "outputs": [],
   "source": [
    "results"
   ],
   "metadata": {
    "collapsed": false
   },
   "id": "aea0a0bd439f96f6"
  },
  {
   "cell_type": "code",
   "execution_count": null,
   "outputs": [],
   "source": [
    "# 预测出脸的个数\n",
    "num_faces = len(results.multi_face_landmarks)\n",
    "print(num_faces)"
   ],
   "metadata": {
    "collapsed": false
   },
   "id": "abbe86eb91bf06ae"
  },
  {
   "cell_type": "code",
   "execution_count": null,
   "outputs": [],
   "source": [
    "# 绘制人脸曲面和重点区域轮廓线，返回anntotate_image\n",
    "annotate_image = img.copy() # 复制一份原始图像\n",
    "if results.multi_face_landmarks: # 如果有检测到人脸\n",
    "    for face_landmarks in results.multi_face_landmarks: # 遍历每一张人脸\n",
    "        # 绘制人脸轮廓线\n",
    "        mp_drawing.draw_landmarks(\n",
    "            image=annotate_image, # 输入图像\n",
    "            landmark_list=face_landmarks, # 关键点\n",
    "            connections=mp_face_mesh.FACEMESH_TESSELATION, # 连接点\n",
    "            landmark_drawing_spec=mp_drawing.DrawingSpec(thickness=1,circle_radius=2,color=(66,77,229)), # 关键点样式,默认为None\n",
    "            connection_drawing_spec=mp_drawing_styles.get_default_face_mesh_tesselation_style()\n",
    "        )\n",
    "        \n",
    "        # 绘制人脸轮廓线、眼睫毛、眼珠、嘴巴\n",
    "        mp_drawing.draw_landmarks(\n",
    "            image=annotate_image, # 输入图像\n",
    "            landmark_list=face_landmarks, # 关键点\n",
    "            connections=mp_face_mesh.FACEMESH_CONTOURS, # 连接点\n",
    "            landmark_drawing_spec=mp_drawing.DrawingSpec(thickness=1,circle_radius=5,color=(66,77,229)), # 关键点样式,默认为None\n",
    "            connection_drawing_spec=mp_drawing_styles.get_default_face_mesh_contours_style()\n",
    "        )\n",
    "        \n",
    "        # 绘制瞳孔区域\n",
    "        mp_drawing.draw_landmarks(\n",
    "            image=annotate_image, # 输入图像\n",
    "            landmark_list=face_landmarks, # 关键点\n",
    "            connections=mp_face_mesh.FACEMESH_IRISES, # 连接点\n",
    "            landmark_drawing_spec=mp_drawing.DrawingSpec(thickness=1,circle_radius=1,color=(10,169,77)), # 关键点样式,默认为None\n",
    "            connection_drawing_spec=mp_drawing_styles.get_default_face_mesh_iris_connections_style()\n",
    "        )"
   ],
   "metadata": {
    "collapsed": false
   },
   "id": "9e065146e56296e7"
  },
  {
   "cell_type": "code",
   "execution_count": null,
   "outputs": [],
   "source": [
    "scaler = 1 # 文字大小\n",
    "    \n",
    "# 获取图像的宽高\n",
    "h, w = img.shape[0], img.shape[1]\n",
    "    \n",
    "# BGR to RGB\n",
    "img_RGB = cv2.cvtColor(img, cv2.COLOR_BGR2RGB)\n",
    "\n",
    "# 将RGB图像输入模型，并得到检测结果\n",
    "results = model.process(img_RGB)\n",
    "\n",
    "if results.multi_face_landmarks: # 如果有检测到人脸\n",
    "        for face_landmarks in results.multi_face_landmarks: # 遍历每一张人脸\n",
    "            # 绘制人脸轮廓线、眼睫毛、眼珠、嘴巴\n",
    "            mp_drawing.draw_landmarks(\n",
    "                image=img, # 输入图像\n",
    "                landmark_list=face_landmarks, # 关键点\n",
    "                connections=mp_face_mesh.FACEMESH_CONTOURS, # 连接点\n",
    "                landmark_drawing_spec=mp_drawing.DrawingSpec(thickness=1,circle_radius=5,color=(66,77,229)), # 关键点样式,默认为None\n",
    "                connection_drawing_spec=mp_drawing_styles.get_default_face_mesh_contours_style()\n",
    "            )\n",
    "            \n",
    "            # 遍历关键点，添加序号\n",
    "            for idx,coord in enumerate(face_landmarks.landmark):# 遍历关键点\n",
    "                cx = int(coord.x * w)\n",
    "                cy = int(coord.y * h)\n",
    "                # 图片、添加的文字、左上角的坐标、字体、字体大小、颜色、字体粗细\n",
    "                img = cv2.putText(img, 'Face Detected', (25 * scaler, 50 * scaler), cv2.FONT_HERSHEY_SIMPLEX, 1.25 * scaler, (255, 0, 255), 1)\n",
    "                img = cv2.putText(img, str(idx), (cx, cy), cv2.FONT_HERSHEY_SIMPLEX, 0.3 * scaler, (0, 255, 0), 1)\n",
    "else:\n",
    "    # 如果没有检测到人脸，则提示\n",
    "    # No face detected的提示只能是英文，否则会显示?????\n",
    "    img = cv2.putText(img, 'No face detected!', (25 * scaler, 50 * scaler), cv2.FONT_HERSHEY_SIMPLEX, 1.25 * scaler, (255, 0, 255), 2 * scaler)"
   ],
   "metadata": {
    "collapsed": false
   },
   "id": "a147c9e0701d66f8"
  },
  {
   "cell_type": "code",
   "execution_count": null,
   "outputs": [],
   "source": [
    "cv2.imwrite('../users_database/AUfaUnit_baojiachen.jpg', img)\n",
    "look_img(img)"
   ],
   "metadata": {
    "collapsed": false
   },
   "id": "37a96b691cf0cb4d"
  },
  {
   "cell_type": "code",
   "execution_count": null,
   "outputs": [],
   "source": [
    "# 在三维坐标系中可视化\n",
    "mp_drawing.plot_landmarks(results.multi_face_landmarks[0], mp_face_mesh.FACEMESH_TESSELATION)"
   ],
   "metadata": {
    "collapsed": false
   },
   "id": "89d8a6b9d9d72bec"
  },
  {
   "cell_type": "code",
   "execution_count": null,
   "outputs": [],
   "source": [
    "# 在三维坐标系中可视化\n",
    "mp_drawing.plot_landmarks(results.multi_face_landmarks[0], mp_face_mesh.FACEMESH_CONTOURS)"
   ],
   "metadata": {
    "collapsed": false
   },
   "id": "b83d9350e8aa490e"
  },
  {
   "cell_type": "code",
   "execution_count": null,
   "outputs": [],
   "source": [
    "# 只有关键点与瞳孔\n",
    "mp_drawing.plot_landmarks(results.multi_face_landmarks[0], mp_face_mesh.FACEMESH_IRISES)"
   ],
   "metadata": {
    "collapsed": false
   },
   "id": "cb56db5471f97989"
  },
  {
   "cell_type": "code",
   "execution_count": null,
   "outputs": [],
   "source": [],
   "metadata": {
    "collapsed": false
   },
   "id": "fe141ba53855ba6d"
  }
 ],
 "metadata": {
  "kernelspec": {
   "display_name": "Python 3",
   "language": "python",
   "name": "python3"
  },
  "language_info": {
   "codemirror_mode": {
    "name": "ipython",
    "version": 2
   },
   "file_extension": ".py",
   "mimetype": "text/x-python",
   "name": "python",
   "nbconvert_exporter": "python",
   "pygments_lexer": "ipython2",
   "version": "2.7.6"
  }
 },
 "nbformat": 4,
 "nbformat_minor": 5
}
