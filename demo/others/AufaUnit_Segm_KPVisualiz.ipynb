{
 "cells": [
  {
   "cell_type": "markdown",
   "source": [
    "# 人脸关键点检测：节点标注\n",
    "## 实现每个节点在图像上标注序号"
   ],
   "metadata": {
    "collapsed": false
   },
   "id": "ca63ebcb5acf0d37"
  },
  {
   "cell_type": "code",
   "execution_count": null,
   "id": "initial_id",
   "metadata": {
    "collapsed": true
   },
   "outputs": [],
   "source": [
    "import cv2\n",
    "import mediapipe as mp\n",
    "from tqdm import tqdm\n",
    "import time"
   ]
  },
  {
   "cell_type": "code",
   "execution_count": null,
   "outputs": [],
   "source": [
    "# 导入人脸关键点检测模型\n",
    "mp_face_mesh = mp.solutions.face_mesh\n",
    "model = mp_face_mesh.FaceMesh(\n",
    "    static_image_mode=False,# 是否是静态图片\n",
    "    refine_landmarks=True,\n",
    "    max_num_faces=5,# 最大人脸数量\n",
    "    min_detection_confidence=0.5, \n",
    "    min_tracking_confidence=0.5\n",
    ")\n",
    "# 导入可视化函数和可视化样式\n",
    "mp_drawing = mp.solutions.drawing_utils # 画关键点\n",
    "# 关键点可视化样式\n",
    "landmark_drawing_spec = mp_drawing.DrawingSpec(thickness=1, circle_radius=2,color=(66, 77, 229))\n",
    "# 轮廓可视化样式\n",
    "contour_drawing_spec = mp_drawing.DrawingSpec(thickness=1, circle_radius=1,color=(223, 155,6))"
   ],
   "metadata": {
    "collapsed": false
   },
   "id": "cebdb798bc04a695"
  },
  {
   "cell_type": "code",
   "execution_count": null,
   "outputs": [],
   "source": [
    "# 处理单帧的函数\n",
    "def process_frame(img):\n",
    "    # 记录该祯开始处理的时间\n",
    "    t0 = time.time()\n",
    "    scaler = 1 # 文字大小\n",
    "    \n",
    "    # 获取图像的宽高\n",
    "    h, w = img.shape[0], img.shape[1]\n",
    "    \n",
    "    # BGR to RGB\n",
    "    img_RGB = cv2.cvtColor(img, cv2.COLOR_BGR2RGB)\n",
    "\n",
    "    # 将RGB图像输入模型，并得到检测结果\n",
    "    results = model.process(img_RGB)\n",
    "    \n",
    "    # 如果有检测到人脸，则开始绘制人脸曲面和重点区域轮廓线\n",
    "    if results.multi_face_landmarks: # 如果有检测到人脸\n",
    "        for face_landmarks in results.multi_face_landmarks: # 遍历每一张人脸\n",
    "            # 绘制人脸轮廓线\n",
    "            mp_drawing.draw_landmarks(\n",
    "                image=img, # 输入图像\n",
    "                landmark_list=face_landmarks, # 关键点\n",
    "                connections=mp_face_mesh.FACEMESH_CONTOURS, # 连接点\n",
    "                landmark_drawing_spec=landmark_drawing_spec,# 关键点样式,默认为None\n",
    "                connection_drawing_spec=contour_drawing_spec # 连接点样式\n",
    "           )\n",
    "            \n",
    "            # 遍历关键点，添加序号\n",
    "            for idx,coord in enumerate(face_landmarks.landmark):# 遍历关键点\n",
    "                cx = int(coord.x * w)\n",
    "                cy = int(coord.y * h)\n",
    "                # 图片、添加的文字、左上角的坐标、字体、字体大小、颜色、字体粗细\n",
    "                img = cv2.putText(img, 'Face Detected', (25 * scaler, 50 * scaler), cv2.FONT_HERSHEY_SIMPLEX, 1.25 * scaler, (255, 0, 255), 1)\n",
    "                img = cv2.putText(img, str(idx), (cx, cy), cv2.FONT_HERSHEY_SIMPLEX, 0.3 * scaler, (0, 255, 0), 1)\n",
    "    else:\n",
    "        # 如果没有检测到人脸，则提示\n",
    "        # No face detected的提示只能是英文，否则会显示?????\n",
    "        img = cv2.putText(img, 'No face detected!', (25 * scaler, 50 * scaler), cv2.FONT_HERSHEY_SIMPLEX, 1.25 * scaler, (255, 0, 255), 2 * scaler)\n",
    "        \n",
    "    # 记录该帧处理完毕的时间\n",
    "    t1 = time.time()\n",
    "    \n",
    "    # 计算每秒处理图像帧数FPS\n",
    "    FPS = 1 / (t1 - t0)\n",
    "    \n",
    "    img = cv2.putText(img, 'FPS: '+ str(int(FPS)), (25 * scaler, 100 * scaler), cv2.FONT_HERSHEY_SIMPLEX, 1.25 * scaler, (255, 0, 255))\n",
    "    \n",
    "    return img"
   ],
   "metadata": {
    "collapsed": false
   },
   "id": "469af20b9112fcfb"
  },
  {
   "cell_type": "code",
   "execution_count": null,
   "outputs": [],
   "source": [
    "# 调用摄像头获取每帧\n",
    "# 导入opencv读取视频的库\n",
    "import cv2\n",
    "import time\n",
    "\n",
    "# 获取摄像头，传入0表示获取系统默认摄像头。如果是MacOS，则需要传入1\n",
    "cap = cv2.VideoCapture(0)\n",
    "\n",
    "# 打开capture\n",
    "cap.open(0)\n",
    "\n",
    "# 无线循环，直至断开连接\n",
    "while cap.isOpened():\n",
    "    # 读取摄像头数据\n",
    "    ret, frame = cap.read()\n",
    "    if not ret:\n",
    "        print(\"Ignoring empty\")\n",
    "        break\n",
    "      \n",
    "    # 处理帧\n",
    "    frame = process_frame(frame)\n",
    "    \n",
    "    # 显示处理后的帧\n",
    "    cv2.imshow('frame', frame)\n",
    "    \n",
    "    # 等待键盘输入，27为esc键，ord用于将字符转为ASCII码\n",
    "    if cv2.waitKey(1) in [27, ord('q')]:\n",
    "        break\n",
    "        \n",
    "# 释放摄像头\n",
    "cap.release()\n",
    "\n",
    "# 关闭所有窗口\n",
    "cv2.destroyAllWindows()"
   ],
   "metadata": {
    "collapsed": false
   },
   "id": "7b66ba7cf342d685"
  },
  {
   "cell_type": "code",
   "execution_count": null,
   "outputs": [],
   "source": [],
   "metadata": {
    "collapsed": false
   },
   "id": "3fb17377ff610e43"
  }
 ],
 "metadata": {
  "kernelspec": {
   "display_name": "Python 3",
   "language": "python",
   "name": "python3"
  },
  "language_info": {
   "codemirror_mode": {
    "name": "ipython",
    "version": 2
   },
   "file_extension": ".py",
   "mimetype": "text/x-python",
   "name": "python",
   "nbconvert_exporter": "python",
   "pygments_lexer": "ipython2",
   "version": "2.7.6"
  }
 },
 "nbformat": 4,
 "nbformat_minor": 5
}
