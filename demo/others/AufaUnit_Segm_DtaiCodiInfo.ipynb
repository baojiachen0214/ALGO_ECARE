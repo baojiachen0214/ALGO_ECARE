{
 "cells": [
  {
   "cell_type": "markdown",
   "source": [
    "# 人脸关键点检测及节点数据细节"
   ],
   "metadata": {
    "collapsed": false
   },
   "id": "5e64dfcbade479cc"
  },
  {
   "cell_type": "code",
   "execution_count": null,
   "id": "initial_id",
   "metadata": {
    "collapsed": true
   },
   "outputs": [],
   "source": [
    "import cv2\n",
    "import numpy as np\n",
    "import mediapipe as mp\n",
    "from tqdm import tqdm\n",
    "import time\n",
    "import matplotlib.pyplot as plt\n",
    "%matplotlib inline"
   ]
  },
  {
   "cell_type": "code",
   "execution_count": null,
   "outputs": [],
   "source": [
    "# 定义可视化图像函数\n",
    "def look_img(img):\n",
    "    '''opencv读入图像格式为BGR，matplotlib可视化格式为RGB，因此需将BGR转RGB'''\n",
    "    img_RGB = cv2.cvtColor(img, cv2.COLOR_BGR2RGB)\n",
    "    plt.imshow(img_RGB)\n",
    "    plt.show()"
   ],
   "metadata": {
    "collapsed": false
   },
   "id": "dc08b707f23563e7"
  },
  {
   "cell_type": "code",
   "execution_count": null,
   "outputs": [],
   "source": [
    "# 导入人脸关键点检测模型\n",
    "mp_face_mesh = mp.solutions.face_mesh\n",
    "face_mesh = mp_face_mesh.FaceMesh(\n",
    "    static_image_mode=True,\n",
    "    refine_landmarks=True,\n",
    "    max_num_faces=5,# 最大人脸数量\n",
    "    min_detection_confidence=0.5, \n",
    "    min_tracking_confidence=0.5\n",
    ")\n",
    "# 导入可视化函数和可视化样式\n",
    "mp_drawing = mp.solutions.drawing_utils # 画关键点\n",
    "drawing_spec = mp_drawing.DrawingSpec(\n",
    "    thickness=3,# 线宽 \n",
    "    circle_radius=5,# 点半径\n",
    "    color=(223,155,6)\n",
    ")"
   ],
   "metadata": {
    "collapsed": false
   },
   "id": "bdc60caafe2d83cc"
  },
  {
   "cell_type": "code",
   "execution_count": null,
   "outputs": [],
   "source": [
    "# 读取图像\n",
    "img = cv2.imread('../images/A-0.jpeg')\n",
    "look_img(img)"
   ],
   "metadata": {
    "collapsed": false
   },
   "id": "5ea495968146eaf1"
  },
  {
   "cell_type": "code",
   "execution_count": null,
   "outputs": [],
   "source": [
    "# 将BGR图像转RGB\n",
    "img_RGB = cv2.cvtColor(img, cv2.COLOR_BGR2RGB)\n",
    "\n",
    "# 将RGB图像输入模型，获取预测结果\n",
    "results = face_mesh.process(img_RGB)\n",
    "\n",
    "if results.multi_face_landmarks: # 判断是否检测到人脸\n",
    "    for face_landmarks in results.multi_face_landmarks:# 遍历每一张人脸\n",
    "        mp_drawing.draw_landmarks(\n",
    "            image=img,\n",
    "            landmark_list=face_landmarks,\n",
    "            connections=mp_face_mesh.FACEMESH_TESSELATION,\n",
    "            landmark_drawing_spec=drawing_spec,\n",
    "            connection_drawing_spec=drawing_spec\n",
    "        )\n",
    "else:\n",
    "    print('No face detected!')\n",
    "    \n",
    "look_img(img)"
   ],
   "metadata": {
    "collapsed": false
   },
   "id": "e2211970c72dc491"
  },
  {
   "cell_type": "code",
   "execution_count": null,
   "outputs": [],
   "source": [
    "# 查看脸轮廓关键点之间的链接关系\n",
    "mp_face_mesh.FACEMESH_CONTOURS"
   ],
   "metadata": {
    "collapsed": false
   },
   "id": "3ecd38a4196db866"
  },
  {
   "cell_type": "code",
   "execution_count": null,
   "outputs": [],
   "source": [
    "# 查看人脸的所有关键点坐标\n",
    "# 注意：这是一个很奇怪的数据结构\n",
    "# for face_landmarks in results.multi_face_landmarks:\n",
    "#     print(face_landmarks.landmark)\n",
    "    \n",
    "results.multi_face_landmarks"
   ],
   "metadata": {
    "collapsed": false
   },
   "id": "21db83da67d29145"
  },
  {
   "cell_type": "code",
   "execution_count": null,
   "outputs": [],
   "source": [
    "# 查看人脸关键点数量\n",
    "len(mp_face_mesh.FACEMESH_CONTOURS)"
   ],
   "metadata": {
    "collapsed": false
   },
   "id": "178d34bcf50d9475"
  },
  {
   "cell_type": "code",
   "execution_count": null,
   "outputs": [],
   "source": [
    "# 查看人脸的数量\n",
    "len(results.multi_face_landmarks)"
   ],
   "metadata": {
    "collapsed": false
   },
   "id": "652f00a9287da8fb"
  },
  {
   "cell_type": "markdown",
   "source": [
    "获取坐标值"
   ],
   "metadata": {
    "collapsed": false
   },
   "id": "e3ba607e79d53ae3"
  },
  {
   "cell_type": "code",
   "execution_count": null,
   "outputs": [],
   "source": [
    "# 缩引为0的脸的关键点坐标\n",
    "results.multi_face_landmarks[0]"
   ],
   "metadata": {
    "collapsed": false
   },
   "id": "d81d61cc98df20bf"
  },
  {
   "cell_type": "code",
   "execution_count": null,
   "outputs": [],
   "source": [
    "# 获取缩引为0的脸的454号关键点坐标\n",
    "results.multi_face_landmarks[0].landmark[454]\n"
   ],
   "metadata": {
    "collapsed": false
   },
   "id": "9d06f25514ef6c25"
  },
  {
   "cell_type": "code",
   "execution_count": null,
   "outputs": [],
   "source": [
    "# 获取缩引为0的脸的454号关键点的x坐标\n",
    "results.multi_face_landmarks[0].landmark[454].x"
   ],
   "metadata": {
    "collapsed": false
   },
   "id": "e250a82eaaad1089"
  },
  {
   "cell_type": "markdown",
   "source": [
    "将相对坐标转为绝对像素坐标实现可视化(454号关键点)"
   ],
   "metadata": {
    "collapsed": false
   },
   "id": "37178d5631a6b62f"
  },
  {
   "cell_type": "code",
   "execution_count": null,
   "outputs": [],
   "source": [
    "# 获取图像的宽高\n",
    "img_width, img_height = img.shape[1], img.shape[0]\n",
    "print(img_width,img_height)"
   ],
   "metadata": {
    "collapsed": false
   },
   "id": "25a701a9342a8048"
  },
  {
   "cell_type": "code",
   "execution_count": null,
   "outputs": [],
   "source": [
    "# 将相对坐标转为绝对像素坐标\n",
    "x = int(results.multi_face_landmarks[0].landmark[454].x * img_width)\n",
    "y = int(results.multi_face_landmarks[0].landmark[454].y * img_height)\n",
    "print(x,y)"
   ],
   "metadata": {
    "collapsed": false
   },
   "id": "edf20da38b4660d2"
  },
  {
   "cell_type": "code",
   "execution_count": null,
   "outputs": [],
   "source": [
    "# 画出关键点\n",
    "# circle函数是画圆的函数\n",
    "img = cv2.circle(img, (x,y), 10, (0,0,255), -1)\n",
    "look_img(img)"
   ],
   "metadata": {
    "collapsed": false
   },
   "id": "fe271ba01e2de786"
  },
  {
   "cell_type": "code",
   "execution_count": null,
   "outputs": [],
   "source": [
    "# 如法炮制画出缩引为1的脸的苹果机（123和352序号）\n",
    "x = int(results.multi_face_landmarks[1].landmark[123].x * img_width)\n",
    "y = int(results.multi_face_landmarks[1].landmark[123].y * img_height)\n",
    "img = cv2.circle(img, (x,y), 20, (255,0,0), -1)\n",
    "\n",
    "x = int(results.multi_face_landmarks[1].landmark[352].x * img_width)\n",
    "y = int(results.multi_face_landmarks[1].landmark[352].y * img_height)\n",
    "img = cv2.circle(img, (x,y), 20, (255,0,0), -1)\n",
    "\n",
    "look_img(img)\n",
    "\n"
   ],
   "metadata": {
    "collapsed": false
   },
   "id": "d96e7b054190f65"
  },
  {
   "cell_type": "markdown",
   "source": [],
   "metadata": {
    "collapsed": false
   },
   "id": "c775c9a4767115c4"
  },
  {
   "cell_type": "code",
   "execution_count": null,
   "outputs": [],
   "source": [
    "# 在3D空间中画出缩引为0的人脸\n",
    "mp_drawing.plot_landmarks(results.multi_face_landmarks[0], mp_face_mesh.FACEMESH_CONTOURS)"
   ],
   "metadata": {
    "collapsed": false
   },
   "id": "1679bc2e071e1bc5"
  },
  {
   "cell_type": "code",
   "execution_count": null,
   "outputs": [],
   "source": [
    "# 在3D空间中画出缩引为0的人脸\n",
    "mp_drawing.plot_landmarks(results.multi_face_landmarks[0], mp_face_mesh.FACEMESH_TESSELATION)"
   ],
   "metadata": {
    "collapsed": false
   },
   "id": "99c4483db774135a"
  },
  {
   "cell_type": "code",
   "execution_count": null,
   "outputs": [],
   "source": [
    "# 在3D空间中画出缩引为0的人脸\n",
    "mp_drawing.plot_landmarks(results.multi_face_landmarks[0], mp_face_mesh.FACEMESH_IRISES)"
   ],
   "metadata": {
    "collapsed": false
   },
   "id": "ce7c20dc16463a3d"
  },
  {
   "cell_type": "markdown",
   "source": [
    "利用Open3D实现交互式可视化"
   ],
   "metadata": {
    "collapsed": false
   },
   "id": "eb89ba1720fb13d7"
  },
  {
   "cell_type": "code",
   "execution_count": null,
   "outputs": [],
   "source": [
    "# 以缩引为0的人为例\n",
    "# 获取关键点坐标\n",
    "coords = np.array(results.multi_face_landmarks[0].landmark)"
   ],
   "metadata": {
    "collapsed": false
   },
   "id": "fe92818346083c6"
  },
  {
   "cell_type": "code",
   "execution_count": null,
   "outputs": [],
   "source": [
    "len(coords)"
   ],
   "metadata": {
    "collapsed": false
   },
   "id": "1fc9ee8161785f9b"
  },
  {
   "cell_type": "code",
   "execution_count": null,
   "outputs": [],
   "source": [
    "# 注意，这个coords结构很诡异，需要进一步处理\n",
    "print(coords)"
   ],
   "metadata": {
    "collapsed": false
   },
   "id": "24d0d115069711be"
  },
  {
   "cell_type": "code",
   "execution_count": null,
   "outputs": [],
   "source": [
    "coords[1].x"
   ],
   "metadata": {
    "collapsed": false
   },
   "id": "28636227f75976e2"
  },
  {
   "cell_type": "code",
   "execution_count": null,
   "outputs": [],
   "source": [
    "# 在不用耗时循环的条件下，汇总所有点的xyz坐标\n",
    "def get_x(each):\n",
    "    return each.x\n",
    "def get_y(each):\n",
    "    return each.y\n",
    "def get_z(each):\n",
    "    return each.z\n",
    "\n",
    "# 分别获取所有关键点的xyz坐标\n",
    "points_x = np.array(list(map(get_x, coords)))\n",
    "points_y = np.array(list(map(get_y, coords)))\n",
    "points_z = np.array(list(map(get_z, coords)))\n",
    "\n",
    "# 将xyz坐标合并\n",
    "points = np.vstack([points_x, points_y, points_z]).T\n",
    "\n",
    "# 查看points的形状\n",
    "print(points.shape)"
   ],
   "metadata": {
    "collapsed": false
   },
   "id": "c0166059a514fbc0"
  },
  {
   "cell_type": "code",
   "execution_count": null,
   "outputs": [],
   "source": [
    "print(points)"
   ],
   "metadata": {
    "collapsed": false
   },
   "id": "8f4e6f327bad3855"
  },
  {
   "cell_type": "code",
   "execution_count": null,
   "outputs": [],
   "source": [
    "# 使用Open3D可视化（不推荐，open3d与jupyter存在兼容性问题，容易导致jupyter无法正常打开）\n",
    "# import cv2\n",
    "# import open3d as o3d\n",
    "# pcd = o3d.geometry.PointCloud()\n",
    "# pcd.points = o3d.utility.Vector3dVector(points)\n",
    "# o3d.visualization.draw_geometries([pcd])"
   ],
   "metadata": {
    "collapsed": false
   },
   "id": "211201457441d48a"
  },
  {
   "cell_type": "code",
   "execution_count": null,
   "outputs": [],
   "source": [],
   "metadata": {
    "collapsed": false
   },
   "id": "e5063b0a6fcf01bb"
  },
  {
   "cell_type": "code",
   "execution_count": null,
   "outputs": [],
   "source": [],
   "metadata": {
    "collapsed": false
   },
   "id": "f6f8c8e1468e490b"
  }
 ],
 "metadata": {
  "kernelspec": {
   "display_name": "Python 3",
   "language": "python",
   "name": "python3"
  },
  "language_info": {
   "codemirror_mode": {
    "name": "ipython",
    "version": 2
   },
   "file_extension": ".py",
   "mimetype": "text/x-python",
   "name": "python",
   "nbconvert_exporter": "python",
   "pygments_lexer": "ipython2",
   "version": "2.7.6"
  }
 },
 "nbformat": 4,
 "nbformat_minor": 5
}
